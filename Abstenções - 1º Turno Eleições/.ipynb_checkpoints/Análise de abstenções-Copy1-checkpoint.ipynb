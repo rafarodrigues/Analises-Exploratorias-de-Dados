{
 "cells": [
  {
   "cell_type": "markdown",
   "id": "c1d8e674",
   "metadata": {},
   "source": [
    "# AED - Análise Exploratória de Dados das Abstenções Eleições 2022"
   ]
  },
  {
   "cell_type": "markdown",
   "id": "f98647a6",
   "metadata": {},
   "source": [
    "## 1º Turno - Eleições 02/10/2022"
   ]
  },
  {
   "cell_type": "code",
   "execution_count": 11,
   "id": "fa2ab78a",
   "metadata": {},
   "outputs": [],
   "source": [
    "import pandas as pd\n",
    "import seaborn as sns\n",
    "import matplotlib.pyplot as plt\n",
    "import matplotlib.ticker as ticker\n",
    "import geopandas as gpd\n",
    "import numpy as np\n",
    "\n",
    "from IPython.display import Image\n",
    "from IPython.core.display import HTML \n"
   ]
  },
  {
   "cell_type": "markdown",
   "id": "77c8181b",
   "metadata": {},
   "source": [
    "# IMPORTAÇÃO DOS DADOS\n",
    "#### Fonte dos dados\n",
    "> Foram utilizados dados extraídos diretamente dos órgãos oficiais responsáveis, sendo assim responsabilidade das instituições.\n",
    "\n",
    "`perfil_comparecimento_abstencao_2022.csv `\n",
    "> * https://dadosabertos.tse.jus.br/dataset/comparecimento-e-abstencao-2022.csv\n",
    "> * última atualização: 25 de outubro de 2022, 13:27 (UTC-03:00)\n",
    "> * *dataset* com as informações das abstenções das eleições, separadas por município, etc etc **ccccoooorrriiigggiiirrr**\n",
    "\n",
    "`evolucao_faltosos_ultimos_3_pleitos.csv`\n",
    "> * https://www.tse.jus.br/eleitor/estatisticas-de-eleitorado/faltosos.csv\n",
    "> * última atualização: 31 de outubro de 2022, 17:10 (UTC-03:00)\n",
    "> * *dataset* com as informações do histórico das abstenções das eleições, desde 2005, extraído do site oficial do TSE.\n",
    "\n",
    "\n",
    "\n",
    "`bcim_2016_21_11_2018.gpkg - **ccccoooorrriiigggiiirrr**\n",
    "> * https://www.tse.jus.br/eleitor/estatisticas-de-eleitorado/faltosos.csv\n",
    "> * última atualização: 31 de outubro de 2022, 17:10 (UTC-03:00)\n",
    "> * *dataset* com as informações do histórico das abstenções das eleições, desde 2005, extraído do site oficial do TSE.\n",
    "\n",
    "`AR_BR_RG_UF_RGINT_RGIM_MES_MIC_MUN_2021.xls`\n",
    "> * https://www.ibge.gov.br/geociencias/organizacao-do-territorio/estrutura-territorial/15761-areas-dos-municipios.html?=&t=acesso-ao-produto\n",
    "> * última atualização: 09 de novembro de 2022, 07:07 (UTC-03:00)\n",
    "> * *dataset* com as informações das áreas territoriais das unidades de federações e municípios, extraído do site do IBGE.\n",
    "\n",
    "\n"
   ]
  },
  {
   "cell_type": "code",
   "execution_count": 6,
   "id": "be1cff03",
   "metadata": {},
   "outputs": [],
   "source": [
    "# Carrega a base de dados de abstenção do 1ª turno das eleições 2022.\n",
    "df = pd.read_csv('raw\\perfil_comparecimento_abstencao_2022.csv', sep=';', encoding='latin1')\n",
    "\n",
    "# Carrega a base de dados do histórico de abstenção do TSE desde 2005\n",
    "df_tse = pd.read_csv('raw\\evolucao_faltosos_ultimos_3_pleitos.csv', sep=';',encoding='latin1')\n",
    "\n",
    "# Carrega o arquivo geoespacial disponibilizado pelo governo brasileiro com os pontos cardeais dos municípios\n",
    "municipios = gpd.read_file('ibge-bcim/bcim_2016_21_11_2018.gpkg', layer = 'LIM_Municipio_A')\n",
    "estados = gpd.read_file('ibge-bcim/bcim_2016_21_11_2018.gpkg', layer = 'LIM_Unidade_Federacao_A')\n",
    "\n",
    "# Carrega arquivo com informações sobre áreas territoriais dos municipios\n",
    "areas = pd.read_excel(\"raw\\AR_BR_RG_UF_RGINT_RGIM_MES_MIC_MUN_2021.xls\")"
   ]
  },
  {
   "cell_type": "code",
   "execution_count": 13,
   "id": "4bf7fc90",
   "metadata": {},
   "outputs": [
    {
     "data": {
      "text/html": [
       "<img src=\"img/transferir.png\"/>"
      ],
      "text/plain": [
       "<IPython.core.display.Image object>"
      ]
     },
     "execution_count": 13,
     "metadata": {},
     "output_type": "execute_result"
    }
   ],
   "source": [
    "Image(url= \"img/transferir.png\") # Usar mais para frente"
   ]
  },
  {
   "cell_type": "markdown",
   "id": "ef96245f",
   "metadata": {},
   "source": [
    "### Conhecendo os arquivos\n",
    "> Vamos começar com a base de abstenção do 1ª turno"
   ]
  },
  {
   "cell_type": "code",
   "execution_count": 14,
   "id": "f842e8a1",
   "metadata": {
    "tags": [
     "hide-input"
    ]
   },
   "outputs": [
    {
     "data": {
      "text/html": [
       "<div>\n",
       "<style scoped>\n",
       "    .dataframe tbody tr th:only-of-type {\n",
       "        vertical-align: middle;\n",
       "    }\n",
       "\n",
       "    .dataframe tbody tr th {\n",
       "        vertical-align: top;\n",
       "    }\n",
       "\n",
       "    .dataframe thead th {\n",
       "        text-align: right;\n",
       "    }\n",
       "</style>\n",
       "<table border=\"1\" class=\"dataframe\">\n",
       "  <thead>\n",
       "    <tr style=\"text-align: right;\">\n",
       "      <th></th>\n",
       "      <th>DT_GERACAO</th>\n",
       "      <th>HH_GERACAO</th>\n",
       "      <th>ANO_ELEICAO</th>\n",
       "      <th>NR_TURNO</th>\n",
       "      <th>SG_UF</th>\n",
       "      <th>CD_MUNICIPIO</th>\n",
       "      <th>NM_MUNICIPIO</th>\n",
       "      <th>NR_ZONA</th>\n",
       "      <th>CD_GENERO</th>\n",
       "      <th>DS_GENERO</th>\n",
       "      <th>...</th>\n",
       "      <th>DS_FAIXA_ETARIA</th>\n",
       "      <th>CD_GRAU_ESCOLARIDADE</th>\n",
       "      <th>DS_GRAU_ESCOLARIDADE</th>\n",
       "      <th>QT_APTOS</th>\n",
       "      <th>QT_COMPARECIMENTO</th>\n",
       "      <th>QT_ABSTENCAO</th>\n",
       "      <th>QT_COMPARECIMENTO_DEFICIENCIA</th>\n",
       "      <th>QT_ABSTENCAO_DEFICIENCIA</th>\n",
       "      <th>QT_COMPARECIMENTO_TTE</th>\n",
       "      <th>QT_ABSTENCAO_TTE</th>\n",
       "    </tr>\n",
       "  </thead>\n",
       "  <tbody>\n",
       "    <tr>\n",
       "      <th>0</th>\n",
       "      <td>14/10/2022</td>\n",
       "      <td>12:06:23</td>\n",
       "      <td>2022</td>\n",
       "      <td>1</td>\n",
       "      <td>AP</td>\n",
       "      <td>6009</td>\n",
       "      <td>PRACUÚBA</td>\n",
       "      <td>1</td>\n",
       "      <td>2</td>\n",
       "      <td>MASCULINO</td>\n",
       "      <td>...</td>\n",
       "      <td>40 a 44 anos</td>\n",
       "      <td>4</td>\n",
       "      <td>ENSINO FUNDAMENTAL COMPLETO</td>\n",
       "      <td>10</td>\n",
       "      <td>7</td>\n",
       "      <td>3</td>\n",
       "      <td>0</td>\n",
       "      <td>0</td>\n",
       "      <td>0</td>\n",
       "      <td>0</td>\n",
       "    </tr>\n",
       "    <tr>\n",
       "      <th>1</th>\n",
       "      <td>14/10/2022</td>\n",
       "      <td>12:06:23</td>\n",
       "      <td>2022</td>\n",
       "      <td>1</td>\n",
       "      <td>AP</td>\n",
       "      <td>6009</td>\n",
       "      <td>PRACUÚBA</td>\n",
       "      <td>1</td>\n",
       "      <td>2</td>\n",
       "      <td>MASCULINO</td>\n",
       "      <td>...</td>\n",
       "      <td>65 a 69 anos</td>\n",
       "      <td>4</td>\n",
       "      <td>ENSINO FUNDAMENTAL COMPLETO</td>\n",
       "      <td>2</td>\n",
       "      <td>2</td>\n",
       "      <td>0</td>\n",
       "      <td>0</td>\n",
       "      <td>0</td>\n",
       "      <td>0</td>\n",
       "      <td>0</td>\n",
       "    </tr>\n",
       "    <tr>\n",
       "      <th>2</th>\n",
       "      <td>14/10/2022</td>\n",
       "      <td>12:06:23</td>\n",
       "      <td>2022</td>\n",
       "      <td>1</td>\n",
       "      <td>AP</td>\n",
       "      <td>6009</td>\n",
       "      <td>PRACUÚBA</td>\n",
       "      <td>1</td>\n",
       "      <td>2</td>\n",
       "      <td>MASCULINO</td>\n",
       "      <td>...</td>\n",
       "      <td>75 a 79 anos</td>\n",
       "      <td>1</td>\n",
       "      <td>ANALFABETO</td>\n",
       "      <td>2</td>\n",
       "      <td>0</td>\n",
       "      <td>2</td>\n",
       "      <td>0</td>\n",
       "      <td>0</td>\n",
       "      <td>0</td>\n",
       "      <td>0</td>\n",
       "    </tr>\n",
       "  </tbody>\n",
       "</table>\n",
       "<p>3 rows × 23 columns</p>\n",
       "</div>"
      ],
      "text/plain": [
       "   DT_GERACAO HH_GERACAO  ANO_ELEICAO  NR_TURNO SG_UF  CD_MUNICIPIO  \\\n",
       "0  14/10/2022   12:06:23         2022         1    AP          6009   \n",
       "1  14/10/2022   12:06:23         2022         1    AP          6009   \n",
       "2  14/10/2022   12:06:23         2022         1    AP          6009   \n",
       "\n",
       "  NM_MUNICIPIO  NR_ZONA  CD_GENERO  DS_GENERO  ...  DS_FAIXA_ETARIA  \\\n",
       "0     PRACUÚBA        1          2  MASCULINO  ...     40 a 44 anos   \n",
       "1     PRACUÚBA        1          2  MASCULINO  ...     65 a 69 anos   \n",
       "2     PRACUÚBA        1          2  MASCULINO  ...     75 a 79 anos   \n",
       "\n",
       "  CD_GRAU_ESCOLARIDADE         DS_GRAU_ESCOLARIDADE QT_APTOS  \\\n",
       "0                    4  ENSINO FUNDAMENTAL COMPLETO       10   \n",
       "1                    4  ENSINO FUNDAMENTAL COMPLETO        2   \n",
       "2                    1                   ANALFABETO        2   \n",
       "\n",
       "   QT_COMPARECIMENTO QT_ABSTENCAO  QT_COMPARECIMENTO_DEFICIENCIA  \\\n",
       "0                  7            3                              0   \n",
       "1                  2            0                              0   \n",
       "2                  0            2                              0   \n",
       "\n",
       "   QT_ABSTENCAO_DEFICIENCIA  QT_COMPARECIMENTO_TTE  QT_ABSTENCAO_TTE  \n",
       "0                         0                      0                 0  \n",
       "1                         0                      0                 0  \n",
       "2                         0                      0                 0  \n",
       "\n",
       "[3 rows x 23 columns]"
      ]
     },
     "execution_count": 14,
     "metadata": {},
     "output_type": "execute_result"
    }
   ],
   "source": [
    "df.head(3) # Mostra os 3 primeiros registros das abstenções de 2022"
   ]
  },
  {
   "cell_type": "code",
   "execution_count": 19,
   "id": "fe4afd7c",
   "metadata": {
    "tags": [
     "hide-input"
    ]
   },
   "outputs": [
    {
     "data": {
      "text/plain": [
       "(4392869, 23)"
      ]
     },
     "execution_count": 19,
     "metadata": {},
     "output_type": "execute_result"
    }
   ],
   "source": [
    "df.shape"
   ]
  },
  {
   "cell_type": "markdown",
   "id": "f0b70742",
   "metadata": {},
   "source": [
    "> Temos um total de 4.392.869 linhas e 23 colunas no arquivo de abstenções do TSE"
   ]
  },
  {
   "cell_type": "code",
   "execution_count": 15,
   "id": "c115d491",
   "metadata": {},
   "outputs": [
    {
     "data": {
      "text/plain": [
       "Index(['DT_GERACAO', 'HH_GERACAO', 'ANO_ELEICAO', 'NR_TURNO', 'SG_UF',\n",
       "       'CD_MUNICIPIO', 'NM_MUNICIPIO', 'NR_ZONA', 'CD_GENERO', 'DS_GENERO',\n",
       "       'CD_ESTADO_CIVIL', 'DS_ESTADO_CIVIL', 'CD_FAIXA_ETARIA',\n",
       "       'DS_FAIXA_ETARIA', 'CD_GRAU_ESCOLARIDADE', 'DS_GRAU_ESCOLARIDADE',\n",
       "       'QT_APTOS', 'QT_COMPARECIMENTO', 'QT_ABSTENCAO',\n",
       "       'QT_COMPARECIMENTO_DEFICIENCIA', 'QT_ABSTENCAO_DEFICIENCIA',\n",
       "       'QT_COMPARECIMENTO_TTE', 'QT_ABSTENCAO_TTE'],\n",
       "      dtype='object')"
      ]
     },
     "execution_count": 15,
     "metadata": {},
     "output_type": "execute_result"
    }
   ],
   "source": [
    "df.columns"
   ]
  },
  {
   "cell_type": "code",
   "execution_count": 17,
   "id": "bc2371ea",
   "metadata": {},
   "outputs": [
    {
     "ename": "AttributeError",
     "evalue": "'DataFrame' object has no attribute 'describre'",
     "output_type": "error",
     "traceback": [
      "\u001b[1;31m---------------------------------------------------------------------------\u001b[0m",
      "\u001b[1;31mAttributeError\u001b[0m                            Traceback (most recent call last)",
      "Input \u001b[1;32mIn [17]\u001b[0m, in \u001b[0;36m<cell line: 1>\u001b[1;34m()\u001b[0m\n\u001b[1;32m----> 1\u001b[0m \u001b[43mdf\u001b[49m\u001b[38;5;241;43m.\u001b[39;49m\u001b[43mdescribre\u001b[49m()\n",
      "File \u001b[1;32m~\\anaconda3\\lib\\site-packages\\pandas\\core\\generic.py:5575\u001b[0m, in \u001b[0;36mNDFrame.__getattr__\u001b[1;34m(self, name)\u001b[0m\n\u001b[0;32m   5568\u001b[0m \u001b[38;5;28;01mif\u001b[39;00m (\n\u001b[0;32m   5569\u001b[0m     name \u001b[38;5;129;01mnot\u001b[39;00m \u001b[38;5;129;01min\u001b[39;00m \u001b[38;5;28mself\u001b[39m\u001b[38;5;241m.\u001b[39m_internal_names_set\n\u001b[0;32m   5570\u001b[0m     \u001b[38;5;129;01mand\u001b[39;00m name \u001b[38;5;129;01mnot\u001b[39;00m \u001b[38;5;129;01min\u001b[39;00m \u001b[38;5;28mself\u001b[39m\u001b[38;5;241m.\u001b[39m_metadata\n\u001b[0;32m   5571\u001b[0m     \u001b[38;5;129;01mand\u001b[39;00m name \u001b[38;5;129;01mnot\u001b[39;00m \u001b[38;5;129;01min\u001b[39;00m \u001b[38;5;28mself\u001b[39m\u001b[38;5;241m.\u001b[39m_accessors\n\u001b[0;32m   5572\u001b[0m     \u001b[38;5;129;01mand\u001b[39;00m \u001b[38;5;28mself\u001b[39m\u001b[38;5;241m.\u001b[39m_info_axis\u001b[38;5;241m.\u001b[39m_can_hold_identifiers_and_holds_name(name)\n\u001b[0;32m   5573\u001b[0m ):\n\u001b[0;32m   5574\u001b[0m     \u001b[38;5;28;01mreturn\u001b[39;00m \u001b[38;5;28mself\u001b[39m[name]\n\u001b[1;32m-> 5575\u001b[0m \u001b[38;5;28;01mreturn\u001b[39;00m \u001b[38;5;28;43mobject\u001b[39;49m\u001b[38;5;241;43m.\u001b[39;49m\u001b[38;5;21;43m__getattribute__\u001b[39;49m\u001b[43m(\u001b[49m\u001b[38;5;28;43mself\u001b[39;49m\u001b[43m,\u001b[49m\u001b[43m \u001b[49m\u001b[43mname\u001b[49m\u001b[43m)\u001b[49m\n",
      "\u001b[1;31mAttributeError\u001b[0m: 'DataFrame' object has no attribute 'describre'"
     ]
    }
   ],
   "source": [
    "df.describre()"
   ]
  },
  {
   "cell_type": "code",
   "execution_count": null,
   "id": "9e8efd24",
   "metadata": {},
   "outputs": [],
   "source": []
  }
 ],
 "metadata": {
  "celltoolbar": "Tags",
  "kernelspec": {
   "display_name": "Python 3 (ipykernel)",
   "language": "python",
   "name": "python3"
  },
  "language_info": {
   "codemirror_mode": {
    "name": "ipython",
    "version": 3
   },
   "file_extension": ".py",
   "mimetype": "text/x-python",
   "name": "python",
   "nbconvert_exporter": "python",
   "pygments_lexer": "ipython3",
   "version": "3.9.12"
  }
 },
 "nbformat": 4,
 "nbformat_minor": 5
}
